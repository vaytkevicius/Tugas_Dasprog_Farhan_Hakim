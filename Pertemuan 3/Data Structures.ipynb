{
 "cells": [
  {
   "cell_type": "code",
   "execution_count": null,
   "metadata": {},
   "outputs": [],
   "source": [
    "#Farhan Hakim\n",
    "#J0403231075"
   ]
  },
  {
   "cell_type": "code",
   "execution_count": null,
   "metadata": {},
   "outputs": [],
   "source": [
    "# Initialize a sample list\n",
    "my_list = [1, 2, 3, 4, 3, 5]\n",
    "# append(x) - Adds an element to the end of the list\n",
    "my_list.append(6)\n",
    "print(my_list) # Output: [1, 2, 3, 4, 3, 5, 6]\n",
    "# extend(iterable) - Extends the list with elements from another iterable\n",
    "my_list.extend([7, 8, 9])\n",
    "print(my_list) # Output: [1, 2, 3, 4, 3, 5, 6, 7, 8, 9]\n",
    "# insert(i, x) - Inserts an element at a specified index\n",
    "my_list.insert(2, 10)\n",
    "print(my_list) # Output: [1, 2, 10, 3, 4, 3, 5, 6, 7, 8, 9]\n",
    "# remove(x) - Removes the first occurrence of an element\n",
    "my_list.remove(3)\n",
    "print(my_list) # Output: [1, 2, 10, 4, 3, 5, 6, 7, 8, 9]\n",
    "# pop([i]) - Removes and returns an element (default: last element)\n",
    "popped_element = my_list.pop(2)\n",
    "print(f\"Popped element: {popped_element}\") # Output: Popped element: 10\n",
    "# clear() - Removes all elements from the list\n",
    "my_list.clear()\n",
    "print(my_list) # Output: []\n",
    "# index(x[, start[, end]]) - Returns the index of the first occurrence of an element\n",
    "my_list = [1, 2, 3, 4, 3, 5]\n",
    "index = my_list.index(3)\n",
    "print(f\"Index of 3: {index}\") # Output: Index of 3: 2\n",
    "# count(x) - Returns the number of occurrences of an element\n",
    "count = my_list.count(3)\n",
    "print(f\"Count of 3: {count}\") # Output: Count of 3: 2\n",
    "# sort(key=None, reverse=False) - Sorts the list in ascending order\n",
    "my_list.sort()\n",
    "print(my_list) # Output: [1, 2, 3, 3, 4, 5]\n",
    "# reverse() - Reverses the order of elements\n",
    "my_list.reverse()\n",
    "print(my_list) # Output: [5, 4, 3, 3, 2, 1]\n",
    "# copy() - Creates a shallow copy of the list\n",
    "copy_of_list = my_list.copy()\n",
    "print(copy_of_list) # Output: [5, 4, 3, 3, 2, 1]\n",
    "# len(list) - Returns the number of elements in the list\n",
    "length = len(my_list)\n",
    "print(f\"Length of the list: {length}\") # Output: Length of the list: 6"
   ]
  },
  {
   "cell_type": "code",
   "execution_count": null,
   "metadata": {},
   "outputs": [],
   "source": [
    "list1=[] # creating an empty list\n",
    "list2=[1,2.4,'abc',(1,2),[6,78,9]] # creating a list of different values\n",
    "print(\"The type of\",list1,\"is:\",type(list1))\n",
    "print(\"The type of\",list2,\"is:\",type(list2))"
   ]
  },
  {
   "cell_type": "code",
   "execution_count": null,
   "metadata": {},
   "outputs": [],
   "source": [
    "list_1=[1,3,5.6,'a',\"PythonGeeks\",0.4]\n",
    "print(list_1[3]) # accessing the 4th element\n",
    "print(list_1) # accessing the whole list\n",
    "print(list_1[-2]) # printing the last 2nd element"
   ]
  },
  {
   "cell_type": "code",
   "execution_count": null,
   "metadata": {},
   "outputs": [],
   "source": [
    "list_1=[1,3,5.6,'a',\"PythonGeeks\",0.4]\n",
    "print(\"list_1[2:5] =\",list_1[2:5]) # slicing 3rd to 5th element\n",
    "print(\"list_1[:] =\",list_1[:]) # getting entire list\n",
    "print(\"list_1[-5:-2] =\",list_1[-5:-2]) # slicing last 5th to 3rd element\n",
    "print(\"list_1[3:] =\",list_1[3:]) # slicing all elements after 3rd one\n",
    "print(\"list_1[-3:] =\",list_1[-3:]) # slicing all elements after last 3rd one\n",
    "print(\"list_1[:2] =\",list_1[:2]) # slicing all elements till 2nd one\n",
    "print(\"list_1[:-2] =\",list_1[:-2])# slicing all elements till last 2nd one"
   ]
  },
  {
   "cell_type": "code",
   "execution_count": null,
   "metadata": {},
   "outputs": [],
   "source": [
    "# Create a list\n",
    "my_list = [1, 2, 3, 4, 5]\n",
    "# Modify an element using indexing\n",
    "my_list[2] = 10\n",
    "print(\"After modifying using indexing:\", my_list) # Output: [1, 2, 10, 4, 5]\n",
    "# Modify a range of elements using slicing\n",
    "my_list[1:4] = [20, 30, 40]\n",
    "print(\"After modifying using slicing:\", my_list) # Output: [1, 20, 30, 40, 5]\n",
    "# Delete an element using indexing\n",
    "del my_list[2]\n",
    "print(\"After deleting using indexing:\", my_list) # Output: [1, 20, 40, 5]\n",
    "# Delete a range of elements using slicing\n",
    "my_list[1:4] = []\n",
    "print(\"After deleting using slicing:\", my_list) # Output: [1, 5]\n",
    "# Delete the entire list\n",
    "del my_list\n",
    "# Now, my_list is no longer defined"
   ]
  },
  {
   "cell_type": "code",
   "execution_count": null,
   "metadata": {},
   "outputs": [],
   "source": [
    "# Create a sample list\n",
    "my_list = [1, 2, 3, 4, 5]\n",
    "# Method 1: Loop through the list and print each element\n",
    "for item in my_list:\n",
    " print(item)\n",
    "# Method 2: Loop through the list with index using enumerate()\n",
    "for index, item in enumerate(my_list):\n",
    " print(f\"Index {index}: {item}\")\n",
    "# Method 3: Loop through the list in reverse order\n",
    "for item in reversed(my_list):\n",
    " print(item)"
   ]
  },
  {
   "cell_type": "code",
   "execution_count": null,
   "metadata": {},
   "outputs": [],
   "source": [
    "# Sample 1:\n",
    "list1=[1,-2,3,-4,5]\n",
    "list2=[x**2 for x in list1]\n",
    "print(list2)\n",
    "# Sample 2 (with condition):\n",
    "fruits = [\"apple\", \"banana\", \"cherry\", \"kiwi\", \"mango\"]\n",
    "newlist = [x if x != \"banana\" else \"orange\" for x in fruits]\n",
    "print(newlist)"
   ]
  },
  {
   "cell_type": "code",
   "execution_count": null,
   "metadata": {},
   "outputs": [],
   "source": [
    "emp_info=['Python',5,'Developer']\n",
    "#List unpacking\n",
    "skill,exp,role=emp_info\n",
    "print (skill) #Output:Python\n",
    "print (exp) #Output:5\n",
    "print (role) #Output:Developer"
   ]
  },
  {
   "cell_type": "code",
   "execution_count": null,
   "metadata": {},
   "outputs": [],
   "source": [
    "# Initialize an empty stack to represent the browser history\n",
    "browser_history = []\n",
    "# Simulate user browsing by pushing visited pages onto the stack\n",
    "browser_history.append(\"Homepage\")\n",
    "browser_history.append(\"About Us\")\n",
    "browser_history.append(\"Products\")\n",
    "browser_history.append(\"Contact Us\")\n",
    "# User clicks the back button\n",
    "if len(browser_history) > 0:\n",
    " current_page = browser_history.pop()\n",
    " print(\"User clicked the back button. Navigating to:\", current_page)\n",
    "# User continues browsing and adds more pages to the history\n",
    "browser_history.append(\"FAQs\")\n",
    "browser_history.append(\"Blog\")\n",
    "# User clicks the back button again\n",
    "if len(browser_history) > 0:\n",
    " current_page = browser_history.pop()\n",
    " print(\"User clicked the back button. Navigating to:\", current_page)\n",
    "# At this point, the browser history would contain [\"Homepage\", \"About Us\", \"Products\", \"Contact Us\", \"FAQs\"]."
   ]
  },
  {
   "cell_type": "code",
   "execution_count": null,
   "metadata": {},
   "outputs": [],
   "source": [
    "queue = ['Person 1','Person 2']\n",
    "\n",
    "# Adding elements to the queue\n",
    "queue.append('Person 3')\n",
    "\n",
    "print(\"\\nQueue before:\")\n",
    "print(queue)\n",
    "\n",
    "# Removing elements from the queue\n",
    "print(\"\\nElements dequeued from queue : \", queue.pop(0))\n",
    "\n",
    "print(\"\\nQueue after:\")\n",
    "print(queue)"
   ]
  },
  {
   "cell_type": "code",
   "execution_count": null,
   "metadata": {},
   "outputs": [],
   "source": [
    "tup=(9,6,'g','Python',7.4)\n",
    "print(len(tup))\n",
    "print(tup.index('g'))\n",
    "print(tup.count('a'))"
   ]
  },
  {
   "cell_type": "code",
   "execution_count": null,
   "metadata": {},
   "outputs": [],
   "source": [
    "# Create a tuple using round brackets\n",
    "t1 = (1, 2, 3, 4)\n",
    "# Create a tuple from a list the tuple() constructor\n",
    "t2 = tuple([1, 2, 3, 4, 5])\n",
    "# Create a tuple using the tuple() constructor\n",
    "t3 = tuple([1, 2, 3, 4, 5, 6])\n",
    "# Print out tuples\n",
    "print(f\"Tuple t1: {t1}\")\n",
    "print(f\"Tuple t2: {t2}\")\n",
    "print(f\"Tuple t3: {t3}\")"
   ]
  },
  {
   "cell_type": "code",
   "execution_count": null,
   "metadata": {},
   "outputs": [],
   "source": [
    "tup1 = ('physics', 'chemistry', 1997, 2000);\n",
    "tup2 = (1, 2, 3, 4, 5, 6, 7 );\n",
    "print (\"tup1[0]: \", tup1[0])\n",
    "print (\"tup2[1:5]: \", tup2[1:5])"
   ]
  },
  {
   "cell_type": "code",
   "execution_count": null,
   "metadata": {},
   "outputs": [],
   "source": [
    "tup1 = (12, 34.56);\n",
    "tup2 = ('abc', 'xyz');\n",
    "# Following action is NOT VALID for tuples\n",
    "# tup1[0] = 100;\n",
    "# So let's create a new tuple as follows\n",
    "tup3 = tup1 + tup2;\n",
    "print (tup3);"
   ]
  },
  {
   "cell_type": "code",
   "execution_count": null,
   "metadata": {},
   "outputs": [],
   "source": [
    "tup = ('physics', 'chemistry', 1997, 2000);\n",
    "print (tup);\n",
    "del tup;\n",
    "print (\"After deleting tup : \");\n",
    "print (tup); # an exception raised, because after del tup tuple does not exist anymore"
   ]
  },
  {
   "cell_type": "code",
   "execution_count": null,
   "metadata": {},
   "outputs": [],
   "source": [
    "tup=(1,2,3,4,5)\n",
    "list1=list(tup)\n",
    "list1[4]=6\n",
    "tup=tuple(list1)\n",
    "tup"
   ]
  },
  {
   "cell_type": "code",
   "execution_count": null,
   "metadata": {},
   "outputs": [],
   "source": [
    "tup=1,2,3 #packing\n",
    "print(\"The type of \",tup,\"is:\",type(tup))\n",
    "a,b,c=tup #unpacking\n",
    "print(a)\n",
    "print(b)\n",
    "print(c)"
   ]
  },
  {
   "cell_type": "code",
   "execution_count": null,
   "metadata": {},
   "outputs": [],
   "source": [
    "dict1={1:'a',2:'e',3:'i',4:'o',5:'u'}\n",
    "print(dict1.get(4))\n",
    "print(dict1.keys())\n",
    "print(dict1.values())\n",
    "print(dict1.items())\n",
    "var1=dict1.pop(2)\n",
    "print(\"The value of var1 is:\",var1)\n",
    "var2=dict1.popitem()\n",
    "print(\"The value of var2 is:\",var2)\n",
    "dict1.clear()\n",
    "dict1"
   ]
  },
  {
   "cell_type": "code",
   "execution_count": null,
   "metadata": {},
   "outputs": [],
   "source": [
    "dict = {'Name': 'Zara', 'Age': 7, 'Class': 'First'}\n",
    "print (\"dict['Name']: \", dict['Name'])\n",
    "print (\"dict['Age']: \", dict['Age'])"
   ]
  },
  {
   "cell_type": "code",
   "execution_count": null,
   "metadata": {},
   "outputs": [],
   "source": [
    "dict = {'Name': 'Zara', 'Age': 7, 'Class': 'First'}\n",
    "dict['Age'] = 8; # update existing entry\n",
    "dict['School'] = \"DPS School\"; # Add new entry\n",
    "print (\"dict['Age']: \", dict['Age'])\n",
    "print (\"dict['School']: \", dict['School'])"
   ]
  },
  {
   "cell_type": "code",
   "execution_count": null,
   "metadata": {},
   "outputs": [],
   "source": [
    "dict = {'Name': 'Zara', 'Age': 7, 'Class': 'First'}\n",
    "del dict['Name']; # remove entry with key 'Name'\n",
    "dict.clear(); # remove all entries in dict\n",
    "del dict ; # delete entire dictionary\n",
    "# an exception is raised here because after del dict dictionary does not exist any more :\n",
    "print (\"dict['Age']: \", dict['Age'])\n",
    "print (\"dict['School']: \", dict['School'])"
   ]
  },
  {
   "cell_type": "code",
   "execution_count": null,
   "metadata": {},
   "outputs": [],
   "source": [
    "# Creating a sample dictionary\n",
    "my_dict = {\"name\": \"Alice\", \"age\": 25, \"city\": \"New York\"}\n",
    "# Method 1: Loop through keys and access values\n",
    "for key in my_dict:\n",
    " print(key, \"->\", my_dict[key])\n",
    "# Method 2: Loop through keys and values using .items()\n",
    "for key, value in my_dict.items():\n",
    " print(key, \"->\", value)\n",
    "# Method 3: Loop through keys using .keys() (less common)\n",
    "for key in my_dict.keys():\n",
    " print(key, \"->\", my_dict[key)\n",
    "# Method 4: Loop through values using .values()\n",
    "for value in my_dict.values():\n",
    " print(value"
   ]
  },
  {
   "cell_type": "code",
   "execution_count": null,
   "metadata": {},
   "outputs": [],
   "source": [
    "dict = {'Name': 'Zara', 'Age': 7, 'Name': 'Manni'}\n",
    "print (\"dict['Name']: \", dict['Name']) # dict['Name']: Manni"
   ]
  },
  {
   "cell_type": "code",
   "execution_count": null,
   "metadata": {},
   "outputs": [],
   "source": [
    "Days=set([\"Mon\",\"Tue\",\"Wed\",\"Thu\",\"Fri\",\"Sat\",\"Sun\"])\n",
    "Months={\"Jan\",\"Feb\",\"Mar\"}\n",
    "Dates={21,22,17}\n",
    "print(Days)\n",
    "print(Months)\n",
    "print(Dates)"
   ]
  },
  {
   "cell_type": "code",
   "execution_count": null,
   "metadata": {},
   "outputs": [],
   "source": [
    "Days=set([\"Mon\",\"Tue\",\"Wed\",\"Thu\",\"Fri\",\"Sat\",\"Sun\"])\n",
    "for d in Days:\n",
    " print(d)"
   ]
  },
  {
   "cell_type": "code",
   "execution_count": null,
   "metadata": {},
   "outputs": [],
   "source": [
    "Days=set([\"Mon\",\"Tue\",\"Wed\",\"Thu\",\"Fri\",\"Sat\"])\n",
    "Days.add(\"Sun\")\n",
    "print(Days)\n"
   ]
  },
  {
   "cell_type": "code",
   "execution_count": null,
   "metadata": {},
   "outputs": [],
   "source": [
    "Days=set([\"Mon\",\"Tue\",\"Wed\",\"Thu\",\"Fri\",\"Sat\"])\n",
    "Days.discard(\"Sun\")\n",
    "print(Days)"
   ]
  },
  {
   "cell_type": "code",
   "execution_count": null,
   "metadata": {},
   "outputs": [],
   "source": [
    "DaysA = set([\"Mon\",\"Tue\",\"Wed\"])\n",
    "DaysB = set([\"Wed\",\"Thu\",\"Fri\",\"Sat\",\"Sun\"])\n",
    "print(DaysA|DaysB) # equals with print(DaysA.union(DaysB))\n",
    "print(DaysA & DaysB) # equals with print(DaysA.intersection(DaysB))\n",
    "print(DaysA - DaysB) # equals with print(DaysA.difference(DaysB))"
   ]
  },
  {
   "cell_type": "code",
   "execution_count": null,
   "metadata": {},
   "outputs": [],
   "source": [
    "employee_list = [(12345, \"John\", \"Kitchen\"), (12458, \"Paul\", \"House Floor\")]\n",
    "def get_employee(id):\n",
    " for employee in employee_list:\n",
    " if employee[0] == id:\n",
    " return {\"id\": employee[0], \"name\": employee[1], \"department\": employee[2]}\n",
    "print(get_employee(12458))"
   ]
  },
  {
   "cell_type": "code",
   "execution_count": null,
   "metadata": {},
   "outputs": [],
   "source": [
    "employee_dict = {\n",
    " 12345: {\n",
    " \"id\": \"12345\",\n",
    " \"name\": \"John\",\n",
    " \"department\": \"Kitchen\"\n",
    " },\n",
    " 12458: {\n",
    " \"id\": \"12458\",\n",
    " \"name\": \"Paul\",\n",
    " \"department\": \"House Floor\"\n",
    " }\n",
    "}\n",
    "def get_employee_from_dict(id):\n",
    " return employee_dict[id];\n",
    "print(get_employee_from_dict(12458));"
   ]
  },
  {
   "cell_type": "code",
   "execution_count": null,
   "metadata": {},
   "outputs": [],
   "source": []
  }
 ],
 "metadata": {
  "language_info": {
   "name": "python"
  }
 },
 "nbformat": 4,
 "nbformat_minor": 2
}
